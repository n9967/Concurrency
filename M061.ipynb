{
 "cells": [
  {
   "cell_type": "code",
   "execution_count": 1,
   "id": "c15e97ed",
   "metadata": {},
   "outputs": [],
   "source": [
    "from datetime import date\n",
    "\n",
    "current_date = str(date.today())\n",
    "\n",
    "with open('today.txt', 'w') as file:\n",
    "    file.write(current_date)\n"
   ]
  },
  {
   "cell_type": "code",
   "execution_count": 2,
   "id": "22cdc48b",
   "metadata": {},
   "outputs": [
    {
     "name": "stdout",
     "output_type": "stream",
     "text": [
      "2023-10-03\n"
     ]
    }
   ],
   "source": [
    "with open('today.txt', 'r') as file:\n",
    "    today_string = file.read()\n",
    "\n",
    "# Print the content of today_string\n",
    "print(today_string)\n"
   ]
  },
  {
   "cell_type": "code",
   "execution_count": 3,
   "id": "7c41d148",
   "metadata": {},
   "outputs": [
    {
     "name": "stdout",
     "output_type": "stream",
     "text": [
      "2023-10-03 00:00:00\n"
     ]
    }
   ],
   "source": [
    "from datetime import datetime\n",
    "\n",
    "today_string = '2023-10-03'\n",
    "\n",
    "parsed_date = datetime.strptime(today_string, '%Y-%m-%d')\n",
    "#Print the parsed date\n",
    "print(parsed_date)"
   ]
  },
  {
   "cell_type": "code",
   "execution_count": 4,
   "id": "08fa18f4",
   "metadata": {},
   "outputs": [],
   "source": [
    "import multiprocessing\n",
    "import time\n",
    "import random\n",
    "from datetime import datetime\n",
    "\n",
    "def print_current_time():\n",
    "    # Random time function\n",
    "    sleep_time = random.uniform(0, 1)\n",
    "    time.sleep(sleep_time)\n",
    "    \n",
    "    # Get the current time\n",
    "    current_time = datetime.now().strftime('%Y-%m-%d %H:%M:%S')\n",
    "    \n",
    "    # Print the current time\n",
    "    print(f\"Current Time: {current_time}\")\n",
    "\n",
    "if __name__ == \"__main__\":\n",
    "    # Three seperate processes\n",
    "    processes = []\n",
    "    for i in range(3):\n",
    "        process = multiprocessing.Process(target=print_current_time)\n",
    "        processes.append(process)\n",
    "    \n",
    "    #Starting and waiting of processes\n",
    "    for process in processes:\n",
    "        process.start()\n",
    "    \n",
    "      \n",
    "    for process in processes:\n",
    "        process.join()\n"
   ]
  },
  {
   "cell_type": "code",
   "execution_count": null,
   "id": "d0b6a989",
   "metadata": {},
   "outputs": [],
   "source": []
  },
  {
   "cell_type": "code",
   "execution_count": 5,
   "id": "60515c9a",
   "metadata": {},
   "outputs": [],
   "source": [
    "import multiprocessing\n",
    "import time\n",
    "import random\n",
    "from datetime import datetime\n",
    "\n",
    "def print_current_time():\n",
    "    # Random time function\n",
    "    sleep_time = random.uniform(0, 1)\n",
    "    time.sleep(sleep_time)\n",
    "    \n",
    "    # Get the current time\n",
    "    current_time = datetime.now().strftime('%Y-%m-%d %H:%M:%S')\n",
    "    \n",
    "    # Print the current time\n",
    "    print(f\"Current Time: {current_time}\")\n",
    "\n",
    "if __name__ == \"__main__\":\n",
    "    # Three seperate processes\n",
    "    processes = []\n",
    "    for i in range(3):\n",
    "        process = multiprocessing.Process(target=print_current_time)\n",
    "        processes.append(process)\n",
    "    \n",
    "    #Starting and waiting of processes\n",
    "    for process in processes:\n",
    "        process.start()\n",
    "    \n",
    "      \n",
    "    for process in processes:\n",
    "        process.join()\n"
   ]
  },
  {
   "cell_type": "code",
   "execution_count": null,
   "id": "61da7bcd",
   "metadata": {},
   "outputs": [],
   "source": []
  }
 ],
 "metadata": {
  "kernelspec": {
   "display_name": "Python 3 (ipykernel)",
   "language": "python",
   "name": "python3"
  },
  "language_info": {
   "codemirror_mode": {
    "name": "ipython",
    "version": 3
   },
   "file_extension": ".py",
   "mimetype": "text/x-python",
   "name": "python",
   "nbconvert_exporter": "python",
   "pygments_lexer": "ipython3",
   "version": "3.11.4"
  }
 },
 "nbformat": 4,
 "nbformat_minor": 5
}
